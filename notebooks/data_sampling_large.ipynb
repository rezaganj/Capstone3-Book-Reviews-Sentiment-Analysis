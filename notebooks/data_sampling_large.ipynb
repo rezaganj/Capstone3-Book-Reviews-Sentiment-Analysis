{
 "cells": [
  {
   "cell_type": "code",
   "execution_count": 1,
   "id": "bce8469d",
   "metadata": {},
   "outputs": [],
   "source": [
    "import numpy as np\n",
    "import pandas as pd"
   ]
  },
  {
   "cell_type": "code",
   "execution_count": 2,
   "id": "d300499c",
   "metadata": {},
   "outputs": [
    {
     "name": "stderr",
     "output_type": "stream",
     "text": [
      "/home/reza/anaconda3/lib/python3.7/site-packages/numpy/lib/arraysetops.py:583: FutureWarning: elementwise comparison failed; returning scalar instead, but in the future will perform elementwise comparison\n",
      "  mask |= (ar1 == a)\n"
     ]
    }
   ],
   "source": [
    "df = pd.read_csv('../data/amazon_reviews_full.csv', index_col=0)"
   ]
  },
  {
   "cell_type": "code",
   "execution_count": 3,
   "id": "f2cbef14",
   "metadata": {},
   "outputs": [
    {
     "data": {
      "text/html": [
       "<div>\n",
       "<style scoped>\n",
       "    .dataframe tbody tr th:only-of-type {\n",
       "        vertical-align: middle;\n",
       "    }\n",
       "\n",
       "    .dataframe tbody tr th {\n",
       "        vertical-align: top;\n",
       "    }\n",
       "\n",
       "    .dataframe thead th {\n",
       "        text-align: right;\n",
       "    }\n",
       "</style>\n",
       "<table border=\"1\" class=\"dataframe\">\n",
       "  <thead>\n",
       "    <tr style=\"text-align: right;\">\n",
       "      <th></th>\n",
       "      <th>review_headline</th>\n",
       "      <th>review_body</th>\n",
       "      <th>star_rating</th>\n",
       "    </tr>\n",
       "  </thead>\n",
       "  <tbody>\n",
       "    <tr>\n",
       "      <th>0</th>\n",
       "      <td>Quirky</td>\n",
       "      <td>Elmore Leonard meets the cast of Sierra Madre....</td>\n",
       "      <td>4</td>\n",
       "    </tr>\n",
       "    <tr>\n",
       "      <th>1</th>\n",
       "      <td>The Woman Who Wasn't There</td>\n",
       "      <td>This book was very interesting. It is a true s...</td>\n",
       "      <td>4</td>\n",
       "    </tr>\n",
       "    <tr>\n",
       "      <th>2</th>\n",
       "      <td>This Sleepy Sheep rocks!</td>\n",
       "      <td>I had the opportunity to review Mary had a Sle...</td>\n",
       "      <td>5</td>\n",
       "    </tr>\n",
       "    <tr>\n",
       "      <th>3</th>\n",
       "      <td>Steamy and suspenseful!!!!!</td>\n",
       "      <td>What a great read!  I really couldn't put this...</td>\n",
       "      <td>5</td>\n",
       "    </tr>\n",
       "    <tr>\n",
       "      <th>4</th>\n",
       "      <td>Barbarians</td>\n",
       "      <td>Barbarians need love too !  Short stories work...</td>\n",
       "      <td>5</td>\n",
       "    </tr>\n",
       "  </tbody>\n",
       "</table>\n",
       "</div>"
      ],
      "text/plain": [
       "               review_headline  \\\n",
       "0                       Quirky   \n",
       "1   The Woman Who Wasn't There   \n",
       "2     This Sleepy Sheep rocks!   \n",
       "3  Steamy and suspenseful!!!!!   \n",
       "4                   Barbarians   \n",
       "\n",
       "                                         review_body  star_rating  \n",
       "0  Elmore Leonard meets the cast of Sierra Madre....            4  \n",
       "1  This book was very interesting. It is a true s...            4  \n",
       "2  I had the opportunity to review Mary had a Sle...            5  \n",
       "3  What a great read!  I really couldn't put this...            5  \n",
       "4  Barbarians need love too !  Short stories work...            5  "
      ]
     },
     "execution_count": 3,
     "metadata": {},
     "output_type": "execute_result"
    }
   ],
   "source": [
    "df.head()"
   ]
  },
  {
   "cell_type": "code",
   "execution_count": 4,
   "id": "a768a7e8",
   "metadata": {},
   "outputs": [],
   "source": [
    "df['review'] = df['review_headline'] + '. ' + df['review_body']"
   ]
  },
  {
   "cell_type": "code",
   "execution_count": 5,
   "id": "227d3077",
   "metadata": {},
   "outputs": [],
   "source": [
    "df['review_sentiments'] = 0"
   ]
  },
  {
   "cell_type": "code",
   "execution_count": 6,
   "id": "46406376",
   "metadata": {},
   "outputs": [],
   "source": [
    "df.loc[df['star_rating'].isin([4, 5]), 'review_sentiments'] = 1"
   ]
  },
  {
   "cell_type": "code",
   "execution_count": 7,
   "id": "d2beba74",
   "metadata": {},
   "outputs": [],
   "source": [
    "df = df.drop(columns=['review_headline', 'review_body', 'star_rating'])"
   ]
  },
  {
   "cell_type": "code",
   "execution_count": 8,
   "id": "c1a25394",
   "metadata": {},
   "outputs": [
    {
     "data": {
      "text/html": [
       "<div>\n",
       "<style scoped>\n",
       "    .dataframe tbody tr th:only-of-type {\n",
       "        vertical-align: middle;\n",
       "    }\n",
       "\n",
       "    .dataframe tbody tr th {\n",
       "        vertical-align: top;\n",
       "    }\n",
       "\n",
       "    .dataframe thead th {\n",
       "        text-align: right;\n",
       "    }\n",
       "</style>\n",
       "<table border=\"1\" class=\"dataframe\">\n",
       "  <thead>\n",
       "    <tr style=\"text-align: right;\">\n",
       "      <th></th>\n",
       "      <th>review</th>\n",
       "      <th>review_sentiments</th>\n",
       "    </tr>\n",
       "  </thead>\n",
       "  <tbody>\n",
       "    <tr>\n",
       "      <th>0</th>\n",
       "      <td>Quirky. Elmore Leonard meets the cast of Sierr...</td>\n",
       "      <td>1</td>\n",
       "    </tr>\n",
       "    <tr>\n",
       "      <th>1</th>\n",
       "      <td>The Woman Who Wasn't There. This book was very...</td>\n",
       "      <td>1</td>\n",
       "    </tr>\n",
       "    <tr>\n",
       "      <th>2</th>\n",
       "      <td>This Sleepy Sheep rocks!. I had the opportunit...</td>\n",
       "      <td>1</td>\n",
       "    </tr>\n",
       "    <tr>\n",
       "      <th>3</th>\n",
       "      <td>Steamy and suspenseful!!!!!. What a great read...</td>\n",
       "      <td>1</td>\n",
       "    </tr>\n",
       "    <tr>\n",
       "      <th>4</th>\n",
       "      <td>Barbarians. Barbarians need love too !  Short ...</td>\n",
       "      <td>1</td>\n",
       "    </tr>\n",
       "  </tbody>\n",
       "</table>\n",
       "</div>"
      ],
      "text/plain": [
       "                                              review  review_sentiments\n",
       "0  Quirky. Elmore Leonard meets the cast of Sierr...                  1\n",
       "1  The Woman Who Wasn't There. This book was very...                  1\n",
       "2  This Sleepy Sheep rocks!. I had the opportunit...                  1\n",
       "3  Steamy and suspenseful!!!!!. What a great read...                  1\n",
       "4  Barbarians. Barbarians need love too !  Short ...                  1"
      ]
     },
     "execution_count": 8,
     "metadata": {},
     "output_type": "execute_result"
    }
   ],
   "source": [
    "df.head()"
   ]
  },
  {
   "cell_type": "code",
   "execution_count": 9,
   "id": "3e499e0e",
   "metadata": {},
   "outputs": [
    {
     "data": {
      "text/plain": [
       "1    4128546\n",
       "0     971663\n",
       "Name: review_sentiments, dtype: int64"
      ]
     },
     "execution_count": 9,
     "metadata": {},
     "output_type": "execute_result"
    }
   ],
   "source": [
    "df['review_sentiments'].value_counts()"
   ]
  },
  {
   "cell_type": "code",
   "execution_count": 10,
   "id": "82298731",
   "metadata": {},
   "outputs": [
    {
     "name": "stdout",
     "output_type": "stream",
     "text": [
      "<class 'pandas.core.frame.DataFrame'>\n",
      "RangeIndex: 5100209 entries, 0 to 5100208\n",
      "Data columns (total 2 columns):\n",
      " #   Column             Dtype \n",
      "---  ------             ----- \n",
      " 0   review             object\n",
      " 1   review_sentiments  int64 \n",
      "dtypes: int64(1), object(1)\n",
      "memory usage: 77.8+ MB\n"
     ]
    }
   ],
   "source": [
    "df.info()"
   ]
  },
  {
   "cell_type": "code",
   "execution_count": 11,
   "id": "ed15d5cc",
   "metadata": {},
   "outputs": [],
   "source": [
    "def stratified_sample_df(df, col, n_samples):\n",
    "    n = min(n_samples, df[col].value_counts().min())\n",
    "    df_ = df.groupby(col).apply(lambda x: x.sample(n))\n",
    "    df_.index = df_.index.droplevel(0)\n",
    "    return df_"
   ]
  },
  {
   "cell_type": "code",
   "execution_count": 12,
   "id": "4eb71bbc",
   "metadata": {},
   "outputs": [],
   "source": [
    "df_stratified = stratified_sample_df(df, 'review_sentiments', 500000)"
   ]
  },
  {
   "cell_type": "code",
   "execution_count": 13,
   "id": "b319ce05",
   "metadata": {},
   "outputs": [
    {
     "data": {
      "text/html": [
       "<div>\n",
       "<style scoped>\n",
       "    .dataframe tbody tr th:only-of-type {\n",
       "        vertical-align: middle;\n",
       "    }\n",
       "\n",
       "    .dataframe tbody tr th {\n",
       "        vertical-align: top;\n",
       "    }\n",
       "\n",
       "    .dataframe thead th {\n",
       "        text-align: right;\n",
       "    }\n",
       "</style>\n",
       "<table border=\"1\" class=\"dataframe\">\n",
       "  <thead>\n",
       "    <tr style=\"text-align: right;\">\n",
       "      <th></th>\n",
       "      <th>review</th>\n",
       "      <th>review_sentiments</th>\n",
       "    </tr>\n",
       "  </thead>\n",
       "  <tbody>\n",
       "    <tr>\n",
       "      <th>4977479</th>\n",
       "      <td>No Longer A Fan of Amazon. I am completely dis...</td>\n",
       "      <td>0</td>\n",
       "    </tr>\n",
       "    <tr>\n",
       "      <th>4223645</th>\n",
       "      <td>Fifty Shades of Grey. Life is too short to rea...</td>\n",
       "      <td>0</td>\n",
       "    </tr>\n",
       "    <tr>\n",
       "      <th>291284</th>\n",
       "      <td>A fun, quick read. A story about chasing super...</td>\n",
       "      <td>0</td>\n",
       "    </tr>\n",
       "    <tr>\n",
       "      <th>514476</th>\n",
       "      <td>Lost in execution. The author kindly provided ...</td>\n",
       "      <td>0</td>\n",
       "    </tr>\n",
       "    <tr>\n",
       "      <th>1452968</th>\n",
       "      <td>Self Help versus Bio. I bought this book becau...</td>\n",
       "      <td>0</td>\n",
       "    </tr>\n",
       "    <tr>\n",
       "      <th>...</th>\n",
       "      <td>...</td>\n",
       "      <td>...</td>\n",
       "    </tr>\n",
       "    <tr>\n",
       "      <th>3698072</th>\n",
       "      <td>Lonely on the Mountain. I have read a lot of \\...</td>\n",
       "      <td>1</td>\n",
       "    </tr>\n",
       "    <tr>\n",
       "      <th>2684478</th>\n",
       "      <td>A Fun &amp; Clever Read. A fun &amp; clever read about...</td>\n",
       "      <td>1</td>\n",
       "    </tr>\n",
       "    <tr>\n",
       "      <th>2452699</th>\n",
       "      <td>Love,Aubrey. There was a lot of \\\\\"getting sic...</td>\n",
       "      <td>1</td>\n",
       "    </tr>\n",
       "    <tr>\n",
       "      <th>3975206</th>\n",
       "      <td>Great steamy read, a lot of fun.. I really enj...</td>\n",
       "      <td>1</td>\n",
       "    </tr>\n",
       "    <tr>\n",
       "      <th>3348535</th>\n",
       "      <td>Profitability. Stephen makes chart reading eas...</td>\n",
       "      <td>1</td>\n",
       "    </tr>\n",
       "  </tbody>\n",
       "</table>\n",
       "<p>1000000 rows × 2 columns</p>\n",
       "</div>"
      ],
      "text/plain": [
       "                                                    review  review_sentiments\n",
       "4977479  No Longer A Fan of Amazon. I am completely dis...                  0\n",
       "4223645  Fifty Shades of Grey. Life is too short to rea...                  0\n",
       "291284   A fun, quick read. A story about chasing super...                  0\n",
       "514476   Lost in execution. The author kindly provided ...                  0\n",
       "1452968  Self Help versus Bio. I bought this book becau...                  0\n",
       "...                                                    ...                ...\n",
       "3698072  Lonely on the Mountain. I have read a lot of \\...                  1\n",
       "2684478  A Fun & Clever Read. A fun & clever read about...                  1\n",
       "2452699  Love,Aubrey. There was a lot of \\\\\"getting sic...                  1\n",
       "3975206  Great steamy read, a lot of fun.. I really enj...                  1\n",
       "3348535  Profitability. Stephen makes chart reading eas...                  1\n",
       "\n",
       "[1000000 rows x 2 columns]"
      ]
     },
     "execution_count": 13,
     "metadata": {},
     "output_type": "execute_result"
    }
   ],
   "source": [
    "df_stratified"
   ]
  },
  {
   "cell_type": "code",
   "execution_count": 14,
   "id": "3ff0f8ee",
   "metadata": {},
   "outputs": [],
   "source": [
    "df_remaining = df.drop(labels=df_stratified.index, axis=0)"
   ]
  },
  {
   "cell_type": "code",
   "execution_count": 15,
   "id": "b6c42adb",
   "metadata": {},
   "outputs": [
    {
     "data": {
      "text/html": [
       "<div>\n",
       "<style scoped>\n",
       "    .dataframe tbody tr th:only-of-type {\n",
       "        vertical-align: middle;\n",
       "    }\n",
       "\n",
       "    .dataframe tbody tr th {\n",
       "        vertical-align: top;\n",
       "    }\n",
       "\n",
       "    .dataframe thead th {\n",
       "        text-align: right;\n",
       "    }\n",
       "</style>\n",
       "<table border=\"1\" class=\"dataframe\">\n",
       "  <thead>\n",
       "    <tr style=\"text-align: right;\">\n",
       "      <th></th>\n",
       "      <th>review</th>\n",
       "      <th>review_sentiments</th>\n",
       "    </tr>\n",
       "  </thead>\n",
       "  <tbody>\n",
       "    <tr>\n",
       "      <th>0</th>\n",
       "      <td>Quirky. Elmore Leonard meets the cast of Sierr...</td>\n",
       "      <td>1</td>\n",
       "    </tr>\n",
       "    <tr>\n",
       "      <th>1</th>\n",
       "      <td>The Woman Who Wasn't There. This book was very...</td>\n",
       "      <td>1</td>\n",
       "    </tr>\n",
       "    <tr>\n",
       "      <th>2</th>\n",
       "      <td>This Sleepy Sheep rocks!. I had the opportunit...</td>\n",
       "      <td>1</td>\n",
       "    </tr>\n",
       "    <tr>\n",
       "      <th>3</th>\n",
       "      <td>Steamy and suspenseful!!!!!. What a great read...</td>\n",
       "      <td>1</td>\n",
       "    </tr>\n",
       "    <tr>\n",
       "      <th>5</th>\n",
       "      <td>Menu..... It was okay obviously, but if you ha...</td>\n",
       "      <td>0</td>\n",
       "    </tr>\n",
       "    <tr>\n",
       "      <th>...</th>\n",
       "      <td>...</td>\n",
       "      <td>...</td>\n",
       "    </tr>\n",
       "    <tr>\n",
       "      <th>5100204</th>\n",
       "      <td>Good Story, Great Series. The Anita Blake seri...</td>\n",
       "      <td>0</td>\n",
       "    </tr>\n",
       "    <tr>\n",
       "      <th>5100205</th>\n",
       "      <td>One Star. Not Recommended</td>\n",
       "      <td>0</td>\n",
       "    </tr>\n",
       "    <tr>\n",
       "      <th>5100206</th>\n",
       "      <td>My once and future desert island book:. \\\\\"The...</td>\n",
       "      <td>1</td>\n",
       "    </tr>\n",
       "    <tr>\n",
       "      <th>5100207</th>\n",
       "      <td>A well-written story about a woman samurai. Re...</td>\n",
       "      <td>1</td>\n",
       "    </tr>\n",
       "    <tr>\n",
       "      <th>5100208</th>\n",
       "      <td>Loved it. My very first novel by Douglas Prest...</td>\n",
       "      <td>1</td>\n",
       "    </tr>\n",
       "  </tbody>\n",
       "</table>\n",
       "<p>4100209 rows × 2 columns</p>\n",
       "</div>"
      ],
      "text/plain": [
       "                                                    review  review_sentiments\n",
       "0        Quirky. Elmore Leonard meets the cast of Sierr...                  1\n",
       "1        The Woman Who Wasn't There. This book was very...                  1\n",
       "2        This Sleepy Sheep rocks!. I had the opportunit...                  1\n",
       "3        Steamy and suspenseful!!!!!. What a great read...                  1\n",
       "5        Menu..... It was okay obviously, but if you ha...                  0\n",
       "...                                                    ...                ...\n",
       "5100204  Good Story, Great Series. The Anita Blake seri...                  0\n",
       "5100205                          One Star. Not Recommended                  0\n",
       "5100206  My once and future desert island book:. \\\\\"The...                  1\n",
       "5100207  A well-written story about a woman samurai. Re...                  1\n",
       "5100208  Loved it. My very first novel by Douglas Prest...                  1\n",
       "\n",
       "[4100209 rows x 2 columns]"
      ]
     },
     "execution_count": 15,
     "metadata": {},
     "output_type": "execute_result"
    }
   ],
   "source": [
    "df_remaining"
   ]
  },
  {
   "cell_type": "code",
   "execution_count": 16,
   "id": "9aa2fa99",
   "metadata": {},
   "outputs": [
    {
     "data": {
      "text/plain": [
       "1    3628546\n",
       "0     471663\n",
       "Name: review_sentiments, dtype: int64"
      ]
     },
     "execution_count": 16,
     "metadata": {},
     "output_type": "execute_result"
    }
   ],
   "source": [
    "df_remaining['review_sentiments'].value_counts()"
   ]
  },
  {
   "cell_type": "code",
   "execution_count": 17,
   "id": "d4829e1e",
   "metadata": {},
   "outputs": [],
   "source": [
    "from sklearn.utils import shuffle\n",
    "df_stratified = shuffle(df_stratified)\n",
    "df_remaining = shuffle(df_remaining)"
   ]
  },
  {
   "cell_type": "code",
   "execution_count": 18,
   "id": "6919ed19",
   "metadata": {},
   "outputs": [
    {
     "data": {
      "text/html": [
       "<div>\n",
       "<style scoped>\n",
       "    .dataframe tbody tr th:only-of-type {\n",
       "        vertical-align: middle;\n",
       "    }\n",
       "\n",
       "    .dataframe tbody tr th {\n",
       "        vertical-align: top;\n",
       "    }\n",
       "\n",
       "    .dataframe thead th {\n",
       "        text-align: right;\n",
       "    }\n",
       "</style>\n",
       "<table border=\"1\" class=\"dataframe\">\n",
       "  <thead>\n",
       "    <tr style=\"text-align: right;\">\n",
       "      <th></th>\n",
       "      <th>review</th>\n",
       "      <th>review_sentiments</th>\n",
       "    </tr>\n",
       "  </thead>\n",
       "  <tbody>\n",
       "    <tr>\n",
       "      <th>3837169</th>\n",
       "      <td>Disappointing treatment of a great album. This...</td>\n",
       "      <td>0</td>\n",
       "    </tr>\n",
       "    <tr>\n",
       "      <th>2882480</th>\n",
       "      <td>Good read. I have read all the books in this s...</td>\n",
       "      <td>1</td>\n",
       "    </tr>\n",
       "    <tr>\n",
       "      <th>4587996</th>\n",
       "      <td>NOPE.. Just my opinion obviously, but every ti...</td>\n",
       "      <td>0</td>\n",
       "    </tr>\n",
       "    <tr>\n",
       "      <th>196423</th>\n",
       "      <td>Passing gas was the highlight, and I HATED  th...</td>\n",
       "      <td>0</td>\n",
       "    </tr>\n",
       "    <tr>\n",
       "      <th>94421</th>\n",
       "      <td>not believable **SPOILERS**. I really like his...</td>\n",
       "      <td>0</td>\n",
       "    </tr>\n",
       "    <tr>\n",
       "      <th>...</th>\n",
       "      <td>...</td>\n",
       "      <td>...</td>\n",
       "    </tr>\n",
       "    <tr>\n",
       "      <th>4996769</th>\n",
       "      <td>Yuck!. Cardboard characters, stilted dialogue,...</td>\n",
       "      <td>0</td>\n",
       "    </tr>\n",
       "    <tr>\n",
       "      <th>1159844</th>\n",
       "      <td>Amazing book....... This was a rough story to ...</td>\n",
       "      <td>1</td>\n",
       "    </tr>\n",
       "    <tr>\n",
       "      <th>3565922</th>\n",
       "      <td>Great read. What a great story and to learn is...</td>\n",
       "      <td>1</td>\n",
       "    </tr>\n",
       "    <tr>\n",
       "      <th>5053743</th>\n",
       "      <td>tiresome tale. the purpose of the book seems t...</td>\n",
       "      <td>0</td>\n",
       "    </tr>\n",
       "    <tr>\n",
       "      <th>205705</th>\n",
       "      <td>Great Read!!!!!!!!!!!!. This book was absolute...</td>\n",
       "      <td>1</td>\n",
       "    </tr>\n",
       "  </tbody>\n",
       "</table>\n",
       "<p>1000000 rows × 2 columns</p>\n",
       "</div>"
      ],
      "text/plain": [
       "                                                    review  review_sentiments\n",
       "3837169  Disappointing treatment of a great album. This...                  0\n",
       "2882480  Good read. I have read all the books in this s...                  1\n",
       "4587996  NOPE.. Just my opinion obviously, but every ti...                  0\n",
       "196423   Passing gas was the highlight, and I HATED  th...                  0\n",
       "94421    not believable **SPOILERS**. I really like his...                  0\n",
       "...                                                    ...                ...\n",
       "4996769  Yuck!. Cardboard characters, stilted dialogue,...                  0\n",
       "1159844  Amazing book....... This was a rough story to ...                  1\n",
       "3565922  Great read. What a great story and to learn is...                  1\n",
       "5053743  tiresome tale. the purpose of the book seems t...                  0\n",
       "205705   Great Read!!!!!!!!!!!!. This book was absolute...                  1\n",
       "\n",
       "[1000000 rows x 2 columns]"
      ]
     },
     "execution_count": 18,
     "metadata": {},
     "output_type": "execute_result"
    }
   ],
   "source": [
    "df_stratified"
   ]
  },
  {
   "cell_type": "code",
   "execution_count": 19,
   "id": "9d73f977",
   "metadata": {},
   "outputs": [
    {
     "data": {
      "text/html": [
       "<div>\n",
       "<style scoped>\n",
       "    .dataframe tbody tr th:only-of-type {\n",
       "        vertical-align: middle;\n",
       "    }\n",
       "\n",
       "    .dataframe tbody tr th {\n",
       "        vertical-align: top;\n",
       "    }\n",
       "\n",
       "    .dataframe thead th {\n",
       "        text-align: right;\n",
       "    }\n",
       "</style>\n",
       "<table border=\"1\" class=\"dataframe\">\n",
       "  <thead>\n",
       "    <tr style=\"text-align: right;\">\n",
       "      <th></th>\n",
       "      <th>review</th>\n",
       "      <th>review_sentiments</th>\n",
       "    </tr>\n",
       "  </thead>\n",
       "  <tbody>\n",
       "    <tr>\n",
       "      <th>2009891</th>\n",
       "      <td>Poor. Poor writing skills of the author which ...</td>\n",
       "      <td>0</td>\n",
       "    </tr>\n",
       "    <tr>\n",
       "      <th>21510</th>\n",
       "      <td>Glad I finally got to this novel. To Fame's Pr...</td>\n",
       "      <td>1</td>\n",
       "    </tr>\n",
       "    <tr>\n",
       "      <th>4984599</th>\n",
       "      <td>Check it out!. I was pleasantly surprised by S...</td>\n",
       "      <td>1</td>\n",
       "    </tr>\n",
       "    <tr>\n",
       "      <th>1018345</th>\n",
       "      <td>Nice consolidation of business thought leaders...</td>\n",
       "      <td>1</td>\n",
       "    </tr>\n",
       "    <tr>\n",
       "      <th>2817065</th>\n",
       "      <td>Real page turner. I expected this to be Republ...</td>\n",
       "      <td>1</td>\n",
       "    </tr>\n",
       "    <tr>\n",
       "      <th>...</th>\n",
       "      <td>...</td>\n",
       "      <td>...</td>\n",
       "    </tr>\n",
       "    <tr>\n",
       "      <th>111832</th>\n",
       "      <td>Her Favorite Temptation. Leah Mathews has alwa...</td>\n",
       "      <td>0</td>\n",
       "    </tr>\n",
       "    <tr>\n",
       "      <th>4239286</th>\n",
       "      <td>A very fun read!. This story is the perfect le...</td>\n",
       "      <td>1</td>\n",
       "    </tr>\n",
       "    <tr>\n",
       "      <th>1399597</th>\n",
       "      <td>A real page turner \"Who Dunnit?\" set in the de...</td>\n",
       "      <td>1</td>\n",
       "    </tr>\n",
       "    <tr>\n",
       "      <th>4119909</th>\n",
       "      <td>12 PRECIOUS ANECDOTES FROM LIFE: A pleasant, a...</td>\n",
       "      <td>1</td>\n",
       "    </tr>\n",
       "    <tr>\n",
       "      <th>3212687</th>\n",
       "      <td>Hot hot and in love. Best book of the series! ...</td>\n",
       "      <td>1</td>\n",
       "    </tr>\n",
       "  </tbody>\n",
       "</table>\n",
       "<p>4100209 rows × 2 columns</p>\n",
       "</div>"
      ],
      "text/plain": [
       "                                                    review  review_sentiments\n",
       "2009891  Poor. Poor writing skills of the author which ...                  0\n",
       "21510    Glad I finally got to this novel. To Fame's Pr...                  1\n",
       "4984599  Check it out!. I was pleasantly surprised by S...                  1\n",
       "1018345  Nice consolidation of business thought leaders...                  1\n",
       "2817065  Real page turner. I expected this to be Republ...                  1\n",
       "...                                                    ...                ...\n",
       "111832   Her Favorite Temptation. Leah Mathews has alwa...                  0\n",
       "4239286  A very fun read!. This story is the perfect le...                  1\n",
       "1399597  A real page turner \"Who Dunnit?\" set in the de...                  1\n",
       "4119909  12 PRECIOUS ANECDOTES FROM LIFE: A pleasant, a...                  1\n",
       "3212687  Hot hot and in love. Best book of the series! ...                  1\n",
       "\n",
       "[4100209 rows x 2 columns]"
      ]
     },
     "execution_count": 19,
     "metadata": {},
     "output_type": "execute_result"
    }
   ],
   "source": [
    "df_remaining"
   ]
  },
  {
   "cell_type": "code",
   "execution_count": 20,
   "id": "c42f105a",
   "metadata": {},
   "outputs": [],
   "source": [
    "df_stratified.to_csv('../data/amazon_large_stratified.csv')"
   ]
  },
  {
   "cell_type": "code",
   "execution_count": 21,
   "id": "c4c7460c",
   "metadata": {},
   "outputs": [],
   "source": [
    "df_remaining.to_csv('../data/amazon_large_remaining.csv')"
   ]
  },
  {
   "cell_type": "code",
   "execution_count": null,
   "id": "4e21c62b",
   "metadata": {},
   "outputs": [],
   "source": []
  }
 ],
 "metadata": {
  "kernelspec": {
   "display_name": "Python 3",
   "language": "python",
   "name": "python3"
  },
  "language_info": {
   "codemirror_mode": {
    "name": "ipython",
    "version": 3
   },
   "file_extension": ".py",
   "mimetype": "text/x-python",
   "name": "python",
   "nbconvert_exporter": "python",
   "pygments_lexer": "ipython3",
   "version": "3.7.9"
  }
 },
 "nbformat": 4,
 "nbformat_minor": 5
}
