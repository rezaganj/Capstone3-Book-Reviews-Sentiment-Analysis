{
 "cells": [
  {
   "cell_type": "code",
   "execution_count": 1,
   "id": "4f77d44d",
   "metadata": {},
   "outputs": [
    {
     "name": "stderr",
     "output_type": "stream",
     "text": [
      "/home/reza/anaconda3/lib/python3.7/site-packages/gensim/similarities/__init__.py:15: UserWarning: The gensim.similarities.levenshtein submodule is disabled, because the optional Levenshtein package <https://pypi.org/project/python-Levenshtein/> is unavailable. Install Levenhstein (e.g. `pip install python-Levenshtein`) to suppress this warning.\n",
      "  warnings.warn(msg)\n"
     ]
    }
   ],
   "source": [
    "## for data\n",
    "import json\n",
    "import pandas as pd\n",
    "import numpy as np\n",
    "## for plotting\n",
    "import matplotlib.pyplot as plt\n",
    "import seaborn as sns\n",
    "## for processing\n",
    "import re\n",
    "import nltk\n",
    "## for bag-of-words\n",
    "from sklearn import feature_extraction, model_selection, naive_bayes, pipeline, manifold, preprocessing\n",
    "## for explainer\n",
    "# from lime import lime_text\n",
    "## for word embedding\n",
    "import gensim\n",
    "import gensim.downloader as gensim_api\n",
    "## for deep learning\n",
    "import tensorflow as tf\n",
    "from tensorflow.keras import models, layers, preprocessing as kprocessing\n",
    "from tensorflow.keras import backend as K\n",
    "## for bert language model\n",
    "import transformers"
   ]
  },
  {
   "cell_type": "code",
   "execution_count": 2,
   "id": "b651870a",
   "metadata": {},
   "outputs": [
    {
     "name": "stderr",
     "output_type": "stream",
     "text": [
      "/home/reza/anaconda3/lib/python3.7/site-packages/IPython/core/interactiveshell.py:3441: FutureWarning: The error_bad_lines argument has been deprecated and will be removed in a future version.\n",
      "\n",
      "\n",
      "  exec(code_obj, self.user_global_ns, self.user_ns)\n",
      "b'Skipping line 784648: expected 15 fields, saw 22\\nSkipping line 1173831: expected 15 fields, saw 22\\nSkipping line 1470689: expected 15 fields, saw 22\\n'\n"
     ]
    }
   ],
   "source": [
    "df = pd.read_csv('../data/amazon_reviews_us_Digital_Ebook_Purchase_v1_01.tsv', \n",
    "                 sep='\\t', encoding='utf8', error_bad_lines=False, low_memory=False)"
   ]
  },
  {
   "cell_type": "code",
   "execution_count": 3,
   "id": "1948f196",
   "metadata": {},
   "outputs": [
    {
     "data": {
      "text/plain": [
       "Index(['marketplace', 'customer_id', 'review_id', 'product_id',\n",
       "       'product_parent', 'product_title', 'product_category', 'star_rating',\n",
       "       'helpful_votes', 'total_votes', 'vine', 'verified_purchase',\n",
       "       'review_headline', 'review_body', 'review_date'],\n",
       "      dtype='object')"
      ]
     },
     "execution_count": 3,
     "metadata": {},
     "output_type": "execute_result"
    }
   ],
   "source": [
    "df.columns"
   ]
  },
  {
   "cell_type": "code",
   "execution_count": 4,
   "id": "dfdd9a04",
   "metadata": {},
   "outputs": [
    {
     "data": {
      "text/plain": [
       "(5100425, 15)"
      ]
     },
     "execution_count": 4,
     "metadata": {},
     "output_type": "execute_result"
    }
   ],
   "source": [
    "df.shape"
   ]
  },
  {
   "cell_type": "code",
   "execution_count": 5,
   "id": "dc7ce5b4",
   "metadata": {},
   "outputs": [],
   "source": [
    "df2 = df.dropna()"
   ]
  },
  {
   "cell_type": "code",
   "execution_count": 6,
   "id": "a50235c6",
   "metadata": {},
   "outputs": [
    {
     "name": "stdout",
     "output_type": "stream",
     "text": [
      "<class 'pandas.core.frame.DataFrame'>\n",
      "Int64Index: 5100209 entries, 0 to 5100424\n",
      "Data columns (total 15 columns):\n",
      " #   Column             Dtype  \n",
      "---  ------             -----  \n",
      " 0   marketplace        object \n",
      " 1   customer_id        int64  \n",
      " 2   review_id          object \n",
      " 3   product_id         object \n",
      " 4   product_parent     int64  \n",
      " 5   product_title      object \n",
      " 6   product_category   object \n",
      " 7   star_rating        object \n",
      " 8   helpful_votes      float64\n",
      " 9   total_votes        float64\n",
      " 10  vine               object \n",
      " 11  verified_purchase  object \n",
      " 12  review_headline    object \n",
      " 13  review_body        object \n",
      " 14  review_date        object \n",
      "dtypes: float64(2), int64(2), object(11)\n",
      "memory usage: 622.6+ MB\n"
     ]
    }
   ],
   "source": [
    "df2.info()"
   ]
  },
  {
   "cell_type": "code",
   "execution_count": 7,
   "id": "ef3b97d5",
   "metadata": {},
   "outputs": [
    {
     "data": {
      "text/plain": [
       "5    2951788\n",
       "4    1176758\n",
       "3     481791\n",
       "1     261655\n",
       "2     228217\n",
       "Name: star_rating, dtype: int64"
      ]
     },
     "execution_count": 7,
     "metadata": {},
     "output_type": "execute_result"
    }
   ],
   "source": [
    "df2['star_rating'].value_counts()"
   ]
  },
  {
   "cell_type": "code",
   "execution_count": 8,
   "id": "7b46e024",
   "metadata": {},
   "outputs": [
    {
     "data": {
      "text/plain": [
       "44731853    3203\n",
       "37529167    3180\n",
       "49715570    1168\n",
       "20721456    1077\n",
       "41277723     905\n",
       "            ... \n",
       "26828866       1\n",
       "48648574       1\n",
       "7073996        1\n",
       "40771020       1\n",
       "50921633       1\n",
       "Name: customer_id, Length: 2061785, dtype: int64"
      ]
     },
     "execution_count": 8,
     "metadata": {},
     "output_type": "execute_result"
    }
   ],
   "source": [
    "df2['customer_id'].value_counts()"
   ]
  },
  {
   "cell_type": "code",
   "execution_count": 9,
   "id": "ca9d2468",
   "metadata": {
    "scrolled": true
   },
   "outputs": [
    {
     "data": {
      "text/plain": [
       "Fifty Shades of Grey (Fifty Shades, Book 1)                 11872\n",
       "The Hunger Games (Hunger Games Trilogy, Book 1)             11709\n",
       "Gone Girl: A Novel                                           9437\n",
       "Catching Fire (Hunger Games Trilogy, Book 2)                 7983\n",
       "Mockingjay (Hunger Games Trilogy, Book 3)                    7428\n",
       "                                                            ...  \n",
       "Engaging Wellness: Corporate Wellness Programs That Work        1\n",
       "A Sea Change (Quick Reads 2013)                                 1\n",
       "Viaje al Pirineo de Lérida (Spanish Edition)                    1\n",
       "French Foreign Legion History                                   1\n",
       "The Disfavored Hero (The Tomoe Gozen Saga Book 1)               1\n",
       "Name: product_title, Length: 613328, dtype: int64"
      ]
     },
     "execution_count": 9,
     "metadata": {},
     "output_type": "execute_result"
    }
   ],
   "source": [
    "df2['product_title'].value_counts()"
   ]
  },
  {
   "cell_type": "code",
   "execution_count": 10,
   "id": "70e78e70",
   "metadata": {},
   "outputs": [
    {
     "data": {
      "text/plain": [
       "Great book                                           28596\n",
       "Great read                                           22227\n",
       "Good read                                            21341\n",
       "Awesome                                              21208\n",
       "Amazing                                              18583\n",
       "                                                     ...  \n",
       "Well Written, a bit pricy                                1\n",
       "Great book...however...                                  1\n",
       "For Granddaqughter                                       1\n",
       "Excellent and inspirational reading - a Must-read        1\n",
       "A well-written story about a woman samurai               1\n",
       "Name: review_headline, Length: 2733571, dtype: int64"
      ]
     },
     "execution_count": 10,
     "metadata": {},
     "output_type": "execute_result"
    }
   ],
   "source": [
    "df2['review_headline'].value_counts()"
   ]
  },
  {
   "cell_type": "code",
   "execution_count": 11,
   "id": "9f0e82e0",
   "metadata": {},
   "outputs": [
    {
     "data": {
      "text/plain": [
       "2012-09-06    30089\n",
       "2013-02-18    22649\n",
       "2013-03-20    19184\n",
       "2013-01-04    19151\n",
       "2013-05-10    19028\n",
       "              ...  \n",
       "2007-03-19        1\n",
       "2007-04-01        1\n",
       "2007-04-02        1\n",
       "2007-05-09        1\n",
       "1999-08-28        1\n",
       "Name: review_date, Length: 2261, dtype: int64"
      ]
     },
     "execution_count": 11,
     "metadata": {},
     "output_type": "execute_result"
    }
   ],
   "source": [
    "df2['review_date'].value_counts()"
   ]
  },
  {
   "cell_type": "code",
   "execution_count": 12,
   "id": "fe34e0e7",
   "metadata": {
    "scrolled": true
   },
   "outputs": [
    {
     "data": {
      "text/plain": [
       "Y    3941244\n",
       "N    1158965\n",
       "Name: verified_purchase, dtype: int64"
      ]
     },
     "execution_count": 12,
     "metadata": {},
     "output_type": "execute_result"
    }
   ],
   "source": [
    "df2['verified_purchase'].value_counts()"
   ]
  },
  {
   "cell_type": "code",
   "execution_count": 13,
   "id": "70f9f240",
   "metadata": {},
   "outputs": [
    {
     "data": {
      "image/png": "[encoded data removed]",
      "text/plain": [
       "<Figure size 640x480 with 1 Axes>"
      ]
     },
     "metadata": {},
     "output_type": "display_data"
    }
   ],
   "source": [
    "df2['total_votes'][df2['total_votes'] <= 25].hist(bins=25)\n",
    "plt.xlim((0,25))\n",
    "plt.show()"
   ]
  },
  {
   "cell_type": "code",
   "execution_count": 14,
   "id": "25c5fd4b",
   "metadata": {},
   "outputs": [],
   "source": [
    "amazon_reviews = df2[['review_headline', 'review_body', 'star_rating']].copy()"
   ]
  },
  {
   "cell_type": "code",
   "execution_count": 15,
   "id": "d1fcf8ea",
   "metadata": {},
   "outputs": [
    {
     "data": {
      "text/html": [
       "<div>\n",
       "<style scoped>\n",
       "    .dataframe tbody tr th:only-of-type {\n",
       "        vertical-align: middle;\n",
       "    }\n",
       "\n",
       "    .dataframe tbody tr th {\n",
       "        vertical-align: top;\n",
       "    }\n",
       "\n",
       "    .dataframe thead th {\n",
       "        text-align: right;\n",
       "    }\n",
       "</style>\n",
       "<table border=\"1\" class=\"dataframe\">\n",
       "  <thead>\n",
       "    <tr style=\"text-align: right;\">\n",
       "      <th></th>\n",
       "      <th>review_headline</th>\n",
       "      <th>review_body</th>\n",
       "      <th>star_rating</th>\n",
       "    </tr>\n",
       "  </thead>\n",
       "  <tbody>\n",
       "    <tr>\n",
       "      <th>0</th>\n",
       "      <td>Quirky</td>\n",
       "      <td>Elmore Leonard meets the cast of Sierra Madre....</td>\n",
       "      <td>4</td>\n",
       "    </tr>\n",
       "    <tr>\n",
       "      <th>1</th>\n",
       "      <td>The Woman Who Wasn't There</td>\n",
       "      <td>This book was very interesting. It is a true s...</td>\n",
       "      <td>4</td>\n",
       "    </tr>\n",
       "    <tr>\n",
       "      <th>2</th>\n",
       "      <td>This Sleepy Sheep rocks!</td>\n",
       "      <td>I had the opportunity to review Mary had a Sle...</td>\n",
       "      <td>5</td>\n",
       "    </tr>\n",
       "    <tr>\n",
       "      <th>3</th>\n",
       "      <td>Steamy and suspenseful!!!!!</td>\n",
       "      <td>What a great read!  I really couldn't put this...</td>\n",
       "      <td>5</td>\n",
       "    </tr>\n",
       "    <tr>\n",
       "      <th>4</th>\n",
       "      <td>Barbarians</td>\n",
       "      <td>Barbarians need love too !  Short stories work...</td>\n",
       "      <td>5</td>\n",
       "    </tr>\n",
       "    <tr>\n",
       "      <th>5</th>\n",
       "      <td>Menu....</td>\n",
       "      <td>It was okay obviously, but if you hadn't read ...</td>\n",
       "      <td>3</td>\n",
       "    </tr>\n",
       "    <tr>\n",
       "      <th>6</th>\n",
       "      <td>Awesome book</td>\n",
       "      <td>Very interesting and kept me reading. Read it ...</td>\n",
       "      <td>5</td>\n",
       "    </tr>\n",
       "    <tr>\n",
       "      <th>7</th>\n",
       "      <td>Face of betrayal</td>\n",
       "      <td>Really enjoyed this book and the author! Ready...</td>\n",
       "      <td>5</td>\n",
       "    </tr>\n",
       "    <tr>\n",
       "      <th>8</th>\n",
       "      <td>Very good</td>\n",
       "      <td>I really liked this book. I felt like I got to...</td>\n",
       "      <td>5</td>\n",
       "    </tr>\n",
       "    <tr>\n",
       "      <th>9</th>\n",
       "      <td>Ouch! My neck is sore!!!</td>\n",
       "      <td>Reading Callum and Stella's story was a bit li...</td>\n",
       "      <td>4</td>\n",
       "    </tr>\n",
       "  </tbody>\n",
       "</table>\n",
       "</div>"
      ],
      "text/plain": [
       "               review_headline  \\\n",
       "0                       Quirky   \n",
       "1   The Woman Who Wasn't There   \n",
       "2     This Sleepy Sheep rocks!   \n",
       "3  Steamy and suspenseful!!!!!   \n",
       "4                   Barbarians   \n",
       "5                     Menu....   \n",
       "6                 Awesome book   \n",
       "7             Face of betrayal   \n",
       "8                    Very good   \n",
       "9     Ouch! My neck is sore!!!   \n",
       "\n",
       "                                         review_body star_rating  \n",
       "0  Elmore Leonard meets the cast of Sierra Madre....           4  \n",
       "1  This book was very interesting. It is a true s...           4  \n",
       "2  I had the opportunity to review Mary had a Sle...           5  \n",
       "3  What a great read!  I really couldn't put this...           5  \n",
       "4  Barbarians need love too !  Short stories work...           5  \n",
       "5  It was okay obviously, but if you hadn't read ...           3  \n",
       "6  Very interesting and kept me reading. Read it ...           5  \n",
       "7  Really enjoyed this book and the author! Ready...           5  \n",
       "8  I really liked this book. I felt like I got to...           5  \n",
       "9  Reading Callum and Stella's story was a bit li...           4  "
      ]
     },
     "execution_count": 15,
     "metadata": {},
     "output_type": "execute_result"
    }
   ],
   "source": [
    "amazon_reviews.head(10)"
   ]
  },
  {
   "cell_type": "code",
   "execution_count": 21,
   "id": "84aed816",
   "metadata": {},
   "outputs": [
    {
     "data": {
      "text/plain": [
       "(5100209, 3)"
      ]
     },
     "execution_count": 21,
     "metadata": {},
     "output_type": "execute_result"
    }
   ],
   "source": [
    "amazon_reviews.shape"
   ]
  },
  {
   "cell_type": "code",
   "execution_count": 16,
   "id": "53104fbc",
   "metadata": {},
   "outputs": [],
   "source": [
    "amazon_reviews.to_csv('../data/amazon_reviews_full.csv')"
   ]
  },
  {
   "cell_type": "code",
   "execution_count": 17,
   "id": "707b8163",
   "metadata": {},
   "outputs": [],
   "source": [
    "amazon_reviews_small = amazon_reviews.sample(n=10000, weights='star_rating', \n",
    "                                            random_state=0).reset_index(drop=True)"
   ]
  },
  {
   "cell_type": "code",
   "execution_count": 18,
   "id": "8e2bfc0a",
   "metadata": {},
   "outputs": [
    {
     "data": {
      "text/html": [
       "<div>\n",
       "<style scoped>\n",
       "    .dataframe tbody tr th:only-of-type {\n",
       "        vertical-align: middle;\n",
       "    }\n",
       "\n",
       "    .dataframe tbody tr th {\n",
       "        vertical-align: top;\n",
       "    }\n",
       "\n",
       "    .dataframe thead th {\n",
       "        text-align: right;\n",
       "    }\n",
       "</style>\n",
       "<table border=\"1\" class=\"dataframe\">\n",
       "  <thead>\n",
       "    <tr style=\"text-align: right;\">\n",
       "      <th></th>\n",
       "      <th>review_headline</th>\n",
       "      <th>review_body</th>\n",
       "      <th>star_rating</th>\n",
       "    </tr>\n",
       "  </thead>\n",
       "  <tbody>\n",
       "    <tr>\n",
       "      <th>0</th>\n",
       "      <td>Good book</td>\n",
       "      <td>This is a very good book. I recommend it for f...</td>\n",
       "      <td>5</td>\n",
       "    </tr>\n",
       "    <tr>\n",
       "      <th>1</th>\n",
       "      <td>the Marenon Chronically Series</td>\n",
       "      <td>Loved all three novels!  Morrow is a good stor...</td>\n",
       "      <td>5</td>\n",
       "    </tr>\n",
       "    <tr>\n",
       "      <th>2</th>\n",
       "      <td>GOOD READ</td>\n",
       "      <td>Made me think about the fine line between life...</td>\n",
       "      <td>5</td>\n",
       "    </tr>\n",
       "    <tr>\n",
       "      <th>3</th>\n",
       "      <td>excellant family devotion</td>\n",
       "      <td>I had been looking for a family devotional gea...</td>\n",
       "      <td>5</td>\n",
       "    </tr>\n",
       "    <tr>\n",
       "      <th>4</th>\n",
       "      <td>Great read</td>\n",
       "      <td>So entertaining, not a dull moment in the enti...</td>\n",
       "      <td>5</td>\n",
       "    </tr>\n",
       "    <tr>\n",
       "      <th>5</th>\n",
       "      <td>Details</td>\n",
       "      <td>Pages and pages of important details to learn ...</td>\n",
       "      <td>5</td>\n",
       "    </tr>\n",
       "    <tr>\n",
       "      <th>6</th>\n",
       "      <td>This book speaks to the heart about habits..</td>\n",
       "      <td>There are tons of weight loss books but this o...</td>\n",
       "      <td>5</td>\n",
       "    </tr>\n",
       "    <tr>\n",
       "      <th>7</th>\n",
       "      <td>Beautifully written, funny, and meaningful</td>\n",
       "      <td>Kergan Edwards-Stout's Songs for the New Depre...</td>\n",
       "      <td>5</td>\n",
       "    </tr>\n",
       "    <tr>\n",
       "      <th>8</th>\n",
       "      <td>'Heaven' left me wanting more!!</td>\n",
       "      <td>The idea of a young woman in prison and a youn...</td>\n",
       "      <td>5</td>\n",
       "    </tr>\n",
       "    <tr>\n",
       "      <th>9</th>\n",
       "      <td>Kane and Elise</td>\n",
       "      <td>I love this series!&lt;br /&gt;Even though Kane and ...</td>\n",
       "      <td>5</td>\n",
       "    </tr>\n",
       "  </tbody>\n",
       "</table>\n",
       "</div>"
      ],
      "text/plain": [
       "                                review_headline  \\\n",
       "0                                     Good book   \n",
       "1                the Marenon Chronically Series   \n",
       "2                                     GOOD READ   \n",
       "3                     excellant family devotion   \n",
       "4                                    Great read   \n",
       "5                                       Details   \n",
       "6  This book speaks to the heart about habits..   \n",
       "7    Beautifully written, funny, and meaningful   \n",
       "8               'Heaven' left me wanting more!!   \n",
       "9                                Kane and Elise   \n",
       "\n",
       "                                         review_body star_rating  \n",
       "0  This is a very good book. I recommend it for f...           5  \n",
       "1  Loved all three novels!  Morrow is a good stor...           5  \n",
       "2  Made me think about the fine line between life...           5  \n",
       "3  I had been looking for a family devotional gea...           5  \n",
       "4  So entertaining, not a dull moment in the enti...           5  \n",
       "5  Pages and pages of important details to learn ...           5  \n",
       "6  There are tons of weight loss books but this o...           5  \n",
       "7  Kergan Edwards-Stout's Songs for the New Depre...           5  \n",
       "8  The idea of a young woman in prison and a youn...           5  \n",
       "9  I love this series!<br />Even though Kane and ...           5  "
      ]
     },
     "execution_count": 18,
     "metadata": {},
     "output_type": "execute_result"
    }
   ],
   "source": [
    "amazon_reviews_small.head(10)"
   ]
  },
  {
   "cell_type": "code",
   "execution_count": 22,
   "id": "85f78c31",
   "metadata": {},
   "outputs": [
    {
     "data": {
      "text/plain": [
       "(10000, 3)"
      ]
     },
     "execution_count": 22,
     "metadata": {},
     "output_type": "execute_result"
    }
   ],
   "source": [
    "amazon_reviews_small.shape"
   ]
  },
  {
   "cell_type": "code",
   "execution_count": 19,
   "id": "ae596ef5",
   "metadata": {},
   "outputs": [],
   "source": [
    "amazon_reviews_small.to_csv('../data/amazon_reviews_small.csv')"
   ]
  },
  {
   "cell_type": "code",
   "execution_count": null,
   "id": "1da72033",
   "metadata": {},
   "outputs": [],
   "source": [
    "amazon_reviews['review_sentiments'] = 0"
   ]
  },
  {
   "cell_type": "code",
   "execution_count": null,
   "id": "debdf370",
   "metadata": {},
   "outputs": [],
   "source": [
    "amazon_reviews['review_sentiments'][amazon_reviews['star_rating'].isin(['4', '5'])] = 1"
   ]
  },
  {
   "cell_type": "code",
   "execution_count": null,
   "id": "c75af9c0",
   "metadata": {},
   "outputs": [],
   "source": [
    "amazon_reviews.head(10)"
   ]
  },
  {
   "cell_type": "code",
   "execution_count": null,
   "id": "d73753cc",
   "metadata": {},
   "outputs": [],
   "source": [
    "amazon_reviews['review_sentiments'].value_counts()"
   ]
  },
  {
   "cell_type": "code",
   "execution_count": null,
   "id": "70ab669c",
   "metadata": {},
   "outputs": [],
   "source": [
    "amazon_reviews = amazon_reviews.drop(columns='star_rating')"
   ]
  },
  {
   "cell_type": "code",
   "execution_count": null,
   "id": "525a46f8",
   "metadata": {},
   "outputs": [],
   "source": [
    "sentiment_0 = amazon_reviews['review_sentiments'] == 0\n",
    "sentiment_1 = amazon_reviews['review_sentiments'] == 1\n",
    "trimmed_df_0 = amazon_reviews[sentiment_0].sample(n=100, random_state=0)\n",
    "trimmed_df_1 = amazon_reviews[sentiment_1].sample(n=100, random_state=0)"
   ]
  },
  {
   "cell_type": "code",
   "execution_count": null,
   "id": "1f34e9e9",
   "metadata": {},
   "outputs": [],
   "source": [
    "trimmed_df = pd.concat([trimmed_df_0, trimmed_df_1], ignore_index=True)"
   ]
  },
  {
   "cell_type": "code",
   "execution_count": null,
   "id": "ffc41719",
   "metadata": {},
   "outputs": [],
   "source": [
    "trimmed_df"
   ]
  },
  {
   "cell_type": "code",
   "execution_count": null,
   "id": "a953b128",
   "metadata": {},
   "outputs": [],
   "source": [
    "trimmed_df['review'] = trimmed_df['review_headline'] + '. ' + trimmed_df['review_body']"
   ]
  },
  {
   "cell_type": "code",
   "execution_count": null,
   "id": "32997aec",
   "metadata": {},
   "outputs": [],
   "source": [
    "trimmed_df"
   ]
  },
  {
   "cell_type": "code",
   "execution_count": null,
   "id": "f9c05e9a",
   "metadata": {},
   "outputs": [],
   "source": [
    "length = 0\n",
    "for i, val in enumerate(trimmed_df_lst):\n",
    "    if len(val) > length:\n",
    "        length = len(val)\n",
    "        value = val\n",
    "        idx = i\n",
    "print(idx, length)"
   ]
  }
 ],
 "metadata": {
  "kernelspec": {
   "display_name": "Python 3",
   "language": "python",
   "name": "python3"
  },
  "language_info": {
   "codemirror_mode": {
    "name": "ipython",
    "version": 3
   },
   "file_extension": ".py",
   "mimetype": "text/x-python",
   "name": "python",
   "nbconvert_exporter": "python",
   "pygments_lexer": "ipython3",
   "version": "3.7.9"
  }
 },
 "nbformat": 4,
 "nbformat_minor": 5
}
